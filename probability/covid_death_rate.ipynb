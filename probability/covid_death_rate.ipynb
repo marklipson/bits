{
 "cells": [
  {
   "cell_type": "code",
   "execution_count": 1,
   "metadata": {},
   "outputs": [],
   "source": [
    "# load the data from Johns Hopkins\n",
    "import pandas\n",
    "import numpy\n",
    "import warnings\n",
    "warnings.simplefilter(\"ignore\")\n",
    "url_confirmed = \"https://raw.githubusercontent.com/CSSEGISandData/COVID-19/master/csse_covid_19_data/csse_covid_19_time_series/time_series_covid19_confirmed_global.csv\"\n",
    "url_deaths = \"https://raw.githubusercontent.com/CSSEGISandData/COVID-19/master/csse_covid_19_data/csse_covid_19_time_series/time_series_covid19_deaths_global.csv\"\n",
    "confirmed = pandas.read_csv(url_confirmed)\n",
    "deaths = pandas.read_csv(url_deaths)"
   ]
  },
  {
   "cell_type": "code",
   "execution_count": 2,
   "metadata": {},
   "outputs": [],
   "source": [
    "# simplify that down to only confirmed cases and deaths\n",
    "c = confirmed[confirmed[\"Country/Region\"]==\"US\"].drop([\"Province/State\", \"Country/Region\", \"Lat\", \"Long\"], axis=1) \\\n",
    "  .transpose()\n",
    "d = deaths[deaths[\"Country/Region\"]==\"US\"].drop([\"Province/State\", \"Country/Region\", \"Lat\", \"Long\"], axis=1) \\\n",
    "  .transpose()\n",
    "cd = pandas.DataFrame({\"confirmed\": c[c.columns[0]], \"deaths\": d[d.columns[0]]})"
   ]
  },
  {
   "cell_type": "code",
   "execution_count": 3,
   "metadata": {},
   "outputs": [
    {
     "data": {
      "text/plain": [
       "<AxesSubplot:>"
      ]
     },
     "execution_count": 3,
     "metadata": {},
     "output_type": "execute_result"
    },
    {
     "data": {
      "image/png": "[encoded data removed]",
      "text/plain": [
       "<Figure size 432x288 with 1 Axes>"
      ]
     },
     "metadata": {
      "needs_background": "light"
     },
     "output_type": "display_data"
    }
   ],
   "source": [
    "# plot the death rate over time (% chance of dying if you have a confirmed case)\n",
    "cd[\"rate\"] = 100 * cd[\"deaths\"] / cd[\"confirmed\"]\n",
    "cd[\"rate\"].plot()"
   ]
  },
  {
   "cell_type": "code",
   "execution_count": 4,
   "metadata": {},
   "outputs": [
    {
     "data": {
      "text/plain": [
       "1.605926675033887"
      ]
     },
     "execution_count": 4,
     "metadata": {},
     "output_type": "execute_result"
    }
   ],
   "source": [
    "# Let's get the average rate for the last 30 days\n",
    "numpy.mean(list(cd[\"rate\"])[-30:])"
   ]
  },
  {
   "cell_type": "code",
   "execution_count": 5,
   "metadata": {},
   "outputs": [],
   "source": [
    "# Ok, so the death rate for confirmed cases has settled to 1.6% (1:60).\n",
    "#\n",
    "# According to this, only 1 in 4 covid infections are reported, so...\n",
    "#   https://www.cdc.gov/coronavirus/2019-ncov/cases-updates/burden.html\n",
    "#\n",
    "# The overall death rate for actual cases is therefore 1:240.\n",
    "#\n",
    "# NOTE 1: Since 20-30% of infections are completely asymptomatic, and quite a few more have only mild symptoms,\n",
    "#         it is less than 50% likely that a person would actually know they had been infected.\n",
    "# NOTE 2: If age and pre-existing health conditions were to be factored in this could be made more accurate"
   ]
  },
  {
   "cell_type": "code",
   "execution_count": 6,
   "metadata": {},
   "outputs": [],
   "source": [
    "# Following note 2, let's look at this based on age.\n",
    "\n",
    "# Here's census data to give us total population by age:\n",
    "#   https://www.census.gov/data/tables/time-series/demo/popest/2010s-national-detail.html#par_textimage_1537638156\n",
    "pop_by_age = pandas.read_csv(\"us_pop_by_age.csv\")"
   ]
  },
  {
   "cell_type": "code",
   "execution_count": 7,
   "metadata": {},
   "outputs": [],
   "source": [
    "# And here is some recent data for Covid and total deaths in 2021 (snapshot taken on Dec 17th)\n",
    "#   https://www.cdc.gov/nchs/nvss/vsrr/covid_weekly/index.htm#SexAndAge\n",
    "#\n",
    "# NOTE: the 'covid deaths' value here is 'any death involving Covid', so if someone was hit by a truck and happened\n",
    "#       to test positive for Covid, that death was counted.  Therefore it is a little high, but I didn't see\n",
    "#       another column that attempted to factor these out.\n",
    "deaths_by_age_range = [\n",
    "    [0, 457, 30812],\n",
    "    [18, 3299, 60511],\n",
    "    [30, 9858, 91990],\n",
    "    [40, 22915, 137428],\n",
    "    [50, 90597, 542044],\n",
    "    [65, 99007, 646965],\n",
    "    [75, 99367, 744250],\n",
    "    [85, 86644, 848817]\n",
    "]\n",
    "# columns in 'deaths':\n",
    "#   age0, age1   = age range\n",
    "#   covid_deaths = deaths attributed to covid (see note above)\n",
    "#   total_deaths = deaths by any cause\n",
    "#   population   = total number of people within the age range\n",
    "for n, (age0, covid_deaths, total_deaths) in enumerate(deaths_by_age_range):\n",
    "    age1 = deaths_by_age_range[n+1][0] if n+1 < len(deaths_by_age_range) else 101\n",
    "    pop_in_range = pop_by_age[pop_by_age.age >= age0][pop_by_age.age < age1][\"count\"].sum()\n",
    "    deaths_by_age_range[n] += [age1, pop_in_range]\n",
    "deaths = pandas.DataFrame(data=deaths_by_age_range, columns=[\"age0\", \"covid_deaths\", \"total_deaths\", \"age1\", \"population\"])"
   ]
  },
  {
   "cell_type": "code",
   "execution_count": 8,
   "metadata": {},
   "outputs": [
    {
     "data": {
      "text/html": [
       "<div>\n",
       "<style scoped>\n",
       "    .dataframe tbody tr th:only-of-type {\n",
       "        vertical-align: middle;\n",
       "    }\n",
       "\n",
       "    .dataframe tbody tr th {\n",
       "        vertical-align: top;\n",
       "    }\n",
       "\n",
       "    .dataframe thead th {\n",
       "        text-align: right;\n",
       "    }\n",
       "</style>\n",
       "<table border=\"1\" class=\"dataframe\">\n",
       "  <thead>\n",
       "    <tr style=\"text-align: right;\">\n",
       "      <th></th>\n",
       "      <th>age0</th>\n",
       "      <th>age1</th>\n",
       "      <th>covid_pct</th>\n",
       "    </tr>\n",
       "  </thead>\n",
       "  <tbody>\n",
       "    <tr>\n",
       "      <th>0</th>\n",
       "      <td>0</td>\n",
       "      <td>18</td>\n",
       "      <td>1.483188</td>\n",
       "    </tr>\n",
       "    <tr>\n",
       "      <th>1</th>\n",
       "      <td>18</td>\n",
       "      <td>30</td>\n",
       "      <td>5.451901</td>\n",
       "    </tr>\n",
       "    <tr>\n",
       "      <th>2</th>\n",
       "      <td>30</td>\n",
       "      <td>40</td>\n",
       "      <td>10.716382</td>\n",
       "    </tr>\n",
       "    <tr>\n",
       "      <th>3</th>\n",
       "      <td>40</td>\n",
       "      <td>50</td>\n",
       "      <td>16.674186</td>\n",
       "    </tr>\n",
       "    <tr>\n",
       "      <th>4</th>\n",
       "      <td>50</td>\n",
       "      <td>65</td>\n",
       "      <td>16.713957</td>\n",
       "    </tr>\n",
       "    <tr>\n",
       "      <th>5</th>\n",
       "      <td>65</td>\n",
       "      <td>75</td>\n",
       "      <td>15.303301</td>\n",
       "    </tr>\n",
       "    <tr>\n",
       "      <th>6</th>\n",
       "      <td>75</td>\n",
       "      <td>85</td>\n",
       "      <td>13.351293</td>\n",
       "    </tr>\n",
       "    <tr>\n",
       "      <th>7</th>\n",
       "      <td>85</td>\n",
       "      <td>101</td>\n",
       "      <td>10.207618</td>\n",
       "    </tr>\n",
       "  </tbody>\n",
       "</table>\n",
       "</div>"
      ],
      "text/plain": [
       "   age0  age1  covid_pct\n",
       "0     0    18   1.483188\n",
       "1    18    30   5.451901\n",
       "2    30    40  10.716382\n",
       "3    40    50  16.674186\n",
       "4    50    65  16.713957\n",
       "5    65    75  15.303301\n",
       "6    75    85  13.351293\n",
       "7    85   101  10.207618"
      ]
     },
     "execution_count": 8,
     "metadata": {},
     "output_type": "execute_result"
    }
   ],
   "source": [
    "# First of all, what do those risk-of-death levels look like for each age?\n",
    "covid_as_cause = deaths[[\"age0\", \"age1\"]]\n",
    "covid_as_cause[\"covid_pct\"] = 100 * deaths[\"covid_deaths\"] / deaths[\"total_deaths\"]\n",
    "covid_as_cause"
   ]
  },
  {
   "cell_type": "code",
   "execution_count": 9,
   "metadata": {},
   "outputs": [
    {
     "data": {
      "text/html": [
       "<div>\n",
       "<style scoped>\n",
       "    .dataframe tbody tr th:only-of-type {\n",
       "        vertical-align: middle;\n",
       "    }\n",
       "\n",
       "    .dataframe tbody tr th {\n",
       "        vertical-align: top;\n",
       "    }\n",
       "\n",
       "    .dataframe thead th {\n",
       "        text-align: right;\n",
       "    }\n",
       "</style>\n",
       "<table border=\"1\" class=\"dataframe\">\n",
       "  <thead>\n",
       "    <tr style=\"text-align: right;\">\n",
       "      <th></th>\n",
       "      <th>age0</th>\n",
       "      <th>age1</th>\n",
       "      <th>pct_covid_death</th>\n",
       "      <th>odds_covid_death</th>\n",
       "      <th>pct_any_death</th>\n",
       "      <th>odds_any_death</th>\n",
       "    </tr>\n",
       "  </thead>\n",
       "  <tbody>\n",
       "    <tr>\n",
       "      <th>0</th>\n",
       "      <td>0</td>\n",
       "      <td>18</td>\n",
       "      <td>0.000626</td>\n",
       "      <td>159823.085339</td>\n",
       "      <td>0.042186</td>\n",
       "      <td>2370.477411</td>\n",
       "    </tr>\n",
       "    <tr>\n",
       "      <th>1</th>\n",
       "      <td>18</td>\n",
       "      <td>30</td>\n",
       "      <td>0.006140</td>\n",
       "      <td>16286.214610</td>\n",
       "      <td>0.112624</td>\n",
       "      <td>887.908347</td>\n",
       "    </tr>\n",
       "    <tr>\n",
       "      <th>2</th>\n",
       "      <td>30</td>\n",
       "      <td>40</td>\n",
       "      <td>0.022319</td>\n",
       "      <td>4480.505782</td>\n",
       "      <td>0.208269</td>\n",
       "      <td>480.148125</td>\n",
       "    </tr>\n",
       "    <tr>\n",
       "      <th>3</th>\n",
       "      <td>40</td>\n",
       "      <td>50</td>\n",
       "      <td>0.056834</td>\n",
       "      <td>1759.518830</td>\n",
       "      <td>0.340849</td>\n",
       "      <td>293.385438</td>\n",
       "    </tr>\n",
       "    <tr>\n",
       "      <th>4</th>\n",
       "      <td>50</td>\n",
       "      <td>65</td>\n",
       "      <td>0.143975</td>\n",
       "      <td>694.567017</td>\n",
       "      <td>0.861403</td>\n",
       "      <td>116.089631</td>\n",
       "    </tr>\n",
       "    <tr>\n",
       "      <th>5</th>\n",
       "      <td>65</td>\n",
       "      <td>75</td>\n",
       "      <td>0.314473</td>\n",
       "      <td>317.991990</td>\n",
       "      <td>2.054938</td>\n",
       "      <td>48.663271</td>\n",
       "    </tr>\n",
       "    <tr>\n",
       "      <th>6</th>\n",
       "      <td>75</td>\n",
       "      <td>85</td>\n",
       "      <td>0.622215</td>\n",
       "      <td>160.716053</td>\n",
       "      <td>4.660338</td>\n",
       "      <td>21.457671</td>\n",
       "    </tr>\n",
       "    <tr>\n",
       "      <th>7</th>\n",
       "      <td>85</td>\n",
       "      <td>101</td>\n",
       "      <td>1.311802</td>\n",
       "      <td>76.230991</td>\n",
       "      <td>12.851210</td>\n",
       "      <td>7.781369</td>\n",
       "    </tr>\n",
       "  </tbody>\n",
       "</table>\n",
       "</div>"
      ],
      "text/plain": [
       "   age0  age1  pct_covid_death  odds_covid_death  pct_any_death  \\\n",
       "0     0    18         0.000626     159823.085339       0.042186   \n",
       "1    18    30         0.006140      16286.214610       0.112624   \n",
       "2    30    40         0.022319       4480.505782       0.208269   \n",
       "3    40    50         0.056834       1759.518830       0.340849   \n",
       "4    50    65         0.143975        694.567017       0.861403   \n",
       "5    65    75         0.314473        317.991990       2.054938   \n",
       "6    75    85         0.622215        160.716053       4.660338   \n",
       "7    85   101         1.311802         76.230991      12.851210   \n",
       "\n",
       "   odds_any_death  \n",
       "0     2370.477411  \n",
       "1      887.908347  \n",
       "2      480.148125  \n",
       "3      293.385438  \n",
       "4      116.089631  \n",
       "5       48.663271  \n",
       "6       21.457671  \n",
       "7        7.781369  "
      ]
     },
     "execution_count": 9,
     "metadata": {},
     "output_type": "execute_result"
    }
   ],
   "source": [
    "# So in general, however likely or unlikely it may be, if someone aged 0-18 died, it was a 1.5% chance that they died\n",
    "# of Covid, and if someone 50-65 died it was a 17% chance they died of Covid.\n",
    "\n",
    "# But those populations are of very different sizes.  Let's see what the overall death rate was, that is, what are\n",
    "# the odds that a person in each population range died of Covid.\n",
    "death_rate = deaths[[\"age0\", \"age1\"]]\n",
    "death_rate[\"pct_covid_death\"] = 100 * deaths[\"covid_deaths\"] / deaths[\"population\"]\n",
    "death_rate[\"odds_covid_death\"] = 100 / death_rate[\"pct_covid_death\"]\n",
    "death_rate[\"pct_any_death\"] = 100 * deaths[\"total_deaths\"] / deaths[\"population\"]\n",
    "death_rate[\"odds_any_death\"] = 100 / death_rate[\"pct_any_death\"]\n",
    "death_rate"
   ]
  },
  {
   "cell_type": "code",
   "execution_count": 10,
   "metadata": {},
   "outputs": [],
   "source": [
    "# So the odds of someone age 0-18 dying of Covid in 2021 were 1:160000 and the odds of someone aged 50-65 were 1:650\n",
    "# The odds of dying, in general, in those age ranges are 1:2400 and 1:100, respectively\n",
    "#\n",
    "# That helps understand the statistic given a few cells earlier:\n",
    "#   \"If someone aged 0-18 died, it was a 1.5% chance that they died of Covid,\n",
    "#   and if someone 50-65 died it was a 17% chance they died of Covid.\"\n",
    "#\n",
    "# So for the 0-18 age range it was a 1.5% chance of the cause of death being Covid, but the overall chance of death\n",
    "# was only 1:2400.  So the 1.5% is misleading.  Let's put it another way.\n",
    "#\n",
    "# Dear 0-18 year old, it has been determined that this year you have a 1 in 2400 chance of dying.  If you happen\n",
    "# to die, the chances of the cause being Covid are about 1 in 60.\n",
    "#\n",
    "# But for a 50-65 year old it should be phrased differently.\n",
    "#\n",
    "# Hello 50-65 year old, Death here.  I have made a grid of 25 by 25 squares.  6 of those squares are colored red,\n",
    "# and one of those red squares is labeled \"Covid\".  At some time this year I will throw a dart at this grid\n",
    "# (and I never miss), and you know what happens if it lands on a red square...  Mwahahaha!\n",
    "#\n",
    "# In the first case, Covid is really not a discernible component of a rational fear.  In the second case, Covid is\n",
    "# still not a huge factor, but it is much more noticeable, large enough to be annoying.  Who wants another red square\n",
    "# added to their matrix of death?\n",
    "#\n",
    "# The comparable grid for the 0-18 year olds would be 400x400, with 60 red squares, one of which is labeled Covid."
   ]
  },
  {
   "cell_type": "code",
   "execution_count": 11,
   "metadata": {},
   "outputs": [],
   "source": [
    "# One could certainly add pre-existing health conditions to further elaborate the nuances.\n",
    "# Here is one source:\n",
    "#   https://www.ons.gov.uk/peoplepopulationandcommunity/birthsdeathsandmarriages/deaths/datasets/preexistingconditionsofpeoplewhodiedduetocovid19englandandwales\n",
    "# According to that, roughly 6 out of 7 Covid deaths in England involved pre-existing conditions.\n",
    "# This site indicates conditions that increase the risk, but they are not quantified:\n",
    "#   https://www.cdc.gov/coronavirus/2019-ncov/need-extra-precautions/people-with-medical-conditions.html\n",
    "#\n",
    "# That 1:7 number is drawn from only one article and so should be taken with several grains of salt.  But suffice it\n",
    "# to say that there is some number that is reflective of this statistic.  Whatever that number may actually be,\n",
    "# the 'story' that Death tells would vary even more than stated above between a young, healthy person and an old,\n",
    "# feeble person.\n",
    "#\n",
    "# As a final note, no statistic is so small that it couldn't happen.  Regardless of what number squares are colored\n",
    "# red, we know that some of them are red and that Death is regularly throwing darts.  And it is very important to\n",
    "# remember that statistics are a mirage, a cloud of rationality attempting to shape itself to observed events.  Each\n",
    "# actual event that occurs always has an 'effective probability' of 100% because it absolutely did, in fact, happen.\n"
   ]
  },
  {
   "cell_type": "code",
   "execution_count": 12,
   "metadata": {},
   "outputs": [
    {
     "name": "stdout",
     "output_type": "stream",
     "text": [
      "50.706733 M confirmed /  328.239523 M people =  15.448088803126856 %\n"
     ]
    }
   ],
   "source": [
    "# What are the chances of getting Covid, though?  And of getting it but not knowing?\n",
    "\n",
    "# First of all the overall average.\n",
    "total_pop = pop_by_age[\"count\"].sum()\n",
    "total_confirmed = list(c[c.columns[0]])[-1]\n",
    "print(total_confirmed/1e6, \"M confirmed / \", total_pop/1e6, \"M people = \", 100 * total_confirmed/total_pop, \"%\")"
   ]
  },
  {
   "cell_type": "code",
   "execution_count": 13,
   "metadata": {},
   "outputs": [],
   "source": [
    "# That's odd.  If the actual cases are 4X higher than the confirmed then 64% of the population has had it, and we \n",
    "# are nearing saturation.\n",
    "\n",
    "# (This doesn't factor in double counting (some people have had it more than once), but that doesn't seem like a\n",
    "# super frequent phenomenon.)"
   ]
  },
  {
   "cell_type": "code",
   "execution_count": null,
   "metadata": {},
   "outputs": [],
   "source": []
  }
 ],
 "metadata": {
  "kernelspec": {
   "display_name": "Python 3",
   "language": "python",
   "name": "python3"
  },
  "language_info": {
   "codemirror_mode": {
    "name": "ipython",
    "version": 3
   },
   "file_extension": ".py",
   "mimetype": "text/x-python",
   "name": "python",
   "nbconvert_exporter": "python",
   "pygments_lexer": "ipython3",
   "version": "3.9.7"
  }
 },
 "nbformat": 4,
 "nbformat_minor": 2
}
